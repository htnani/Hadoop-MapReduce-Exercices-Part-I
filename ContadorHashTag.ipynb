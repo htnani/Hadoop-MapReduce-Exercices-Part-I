{
 "cells": [
  {
   "cell_type": "markdown",
   "metadata": {},
   "source": [
    "Tutorial para executar a aplicação ContadorHashTag mapreduce na linha de comandos do Hadoop na VM Cloudera. Esta aplicação conta palavras em uma base de dados do twitter. Base de dados utilizada: Mensagens da rede social Twitter sobre os temas: Big Data, data visualization, data privacy e Internet of Things."
   ]
  },
  {
   "cell_type": "markdown",
   "metadata": {},
   "source": [
    "Passo 1: Submeter base de dados para o HDFS, mesma base utilizada no exercicio WordCount."
   ]
  },
  {
   "cell_type": "markdown",
   "metadata": {},
   "source": [
    "Passo 2: Execução do ContadorHashTag jar file e gravar o arquivo resultado da execução na pasta saida/contador"
   ]
  },
  {
   "cell_type": "markdown",
   "metadata": {},
   "source": [
    "hadoop jar ~/Documents/LabHadoop.jar com.hadoop.ContadorHashTag bases/base_tw.txt saida/contador"
   ]
  },
  {
   "cell_type": "markdown",
   "metadata": {},
   "source": [
    "Passo 3: Visualizar resultado de execução do ContadorHashTag"
   ]
  },
  {
   "cell_type": "markdown",
   "metadata": {},
   "source": [
    "Comando para listar o conteúdo do diretório saida"
   ]
  },
  {
   "cell_type": "markdown",
   "metadata": {},
   "source": [
    "hdfs dfs -ls saida/contador"
   ]
  },
  {
   "cell_type": "markdown",
   "metadata": {},
   "source": [
    "Comando para visualizar o conteudo do arquivo part-r-00000"
   ]
  },
  {
   "cell_type": "markdown",
   "metadata": {},
   "source": [
    "hdfs dfs -cat saida/contador/part-r-00000"
   ]
  }
 ],
 "metadata": {
  "anaconda-cloud": {},
  "kernelspec": {
   "display_name": "SciJava",
   "language": "groovy",
   "name": "scijava"
  },
  "language_info": {
   "codemirror_mode": "groovy",
   "file_extension": "",
   "mimetype": "",
   "name": "scijava",
   "nbconverter_exporter": "",
   "pygments_lexer": "groovy",
   "version": "1.0"
  }
 },
 "nbformat": 4,
 "nbformat_minor": 2
}
