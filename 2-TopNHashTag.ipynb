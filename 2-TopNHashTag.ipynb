{
 "cells": [
  {
   "cell_type": "markdown",
   "metadata": {},
   "source": [
    "Tutorial para executar a aplicação TopNHashTag mapreduce na linha de comandos do Hadoop na VM Cloudera. Esta aplicação agrupa, conta o número de hashtags e retorna a n quantidade de hashtags com maior frequência, onde n é um parâmetro especificado pelo usuário da aplicação, em uma base de dados do twitter. Base de dados utilizada: Mensagens da rede social Twitter sobre os temas: Big Data, data visualization, data privacy e Internet of Things."
   ]
  },
  {
   "cell_type": "markdown",
   "metadata": {},
   "source": [
    "Passo 1: Execução do TopNHashTag jar file, retornar os 5 hashtags com maior frequência e gravar o arquivo resultado da execução na pasta saida/topn "
   ]
  },
  {
   "cell_type": "markdown",
   "metadata": {},
   "source": [
    "hadoop jar ~/Documents/LabHadoop.jar com.hadoop.TopNHashTag saida/contador/part-r-00000 saida/topn 5"
   ]
  },
  {
   "cell_type": "markdown",
   "metadata": {},
   "source": [
    "Obs: A base de dados de entrada desse job é a base de saída do job ContadorHashTag"
   ]
  },
  {
   "cell_type": "markdown",
   "metadata": {},
   "source": [
    "Passo 2: Visualizar resultado de execução do TopNHashTag"
   ]
  },
  {
   "cell_type": "markdown",
   "metadata": {},
   "source": [
    "Comando para listar o conteúdo do diretório saida"
   ]
  },
  {
   "cell_type": "markdown",
   "metadata": {},
   "source": [
    "hdfs dfs -ls saida/topn"
   ]
  },
  {
   "cell_type": "markdown",
   "metadata": {},
   "source": [
    "Comando para visualizar o conteudo do arquivo part-r-00000"
   ]
  },
  {
   "cell_type": "markdown",
   "metadata": {},
   "source": [
    "hdfs dfs -cat saida/topn/part-r-00000"
   ]
  }
 ],
 "metadata": {
  "anaconda-cloud": {},
  "kernelspec": {
   "display_name": "SciJava",
   "language": "groovy",
   "name": "scijava"
  },
  "language_info": {
   "codemirror_mode": "groovy",
   "file_extension": "",
   "mimetype": "",
   "name": "scijava",
   "nbconverter_exporter": "",
   "pygments_lexer": "groovy",
   "version": "1.0"
  }
 },
 "nbformat": 4,
 "nbformat_minor": 2
}
